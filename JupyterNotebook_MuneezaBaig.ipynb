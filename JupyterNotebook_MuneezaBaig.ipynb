{
 "cells": [
  {
   "cell_type": "markdown",
   "id": "8643928d",
   "metadata": {},
   "source": [
    "#  My Jupyter Notebook on IBM Watson Studio"
   ]
  },
  {
   "cell_type": "markdown",
   "id": "397a9d33",
   "metadata": {},
   "source": [
    "__Muneeza Baig__ <br>\n",
    "I am a student, currently pursuing a degree in computer systems engineering\n"
   ]
  },
  {
   "cell_type": "markdown",
   "id": "1c1475d8",
   "metadata": {},
   "source": [
    "_After taking a few courses in university about AI and machine learning, we had to do a couple of projects using ML models and there I experienced  data analytics for the first time. Since then, I have been trying to learn more about it._"
   ]
  },
  {
   "cell_type": "markdown",
   "id": "9dd3cbde",
   "metadata": {},
   "source": [
    "### It simply prints a statement."
   ]
  },
  {
   "cell_type": "code",
   "execution_count": 4,
   "id": "07964825",
   "metadata": {},
   "outputs": [
    {
     "name": "stdout",
     "output_type": "stream",
     "text": [
      "Have a great day :)\n"
     ]
    }
   ],
   "source": [
    "print('Have a great day :)')"
   ]
  },
  {
   "cell_type": "markdown",
   "id": "e84a7277",
   "metadata": {},
   "source": [
    "> This is a blocked quote <br><br>\n",
    "- This \n",
    "- is\n",
    "- a\n",
    "- bulleted list <br><br>\n",
    "1. This \n",
    "2. is\n",
    "3. a\n",
    "4. numbered list\n"
   ]
  },
  {
   "cell_type": "code",
   "execution_count": null,
   "id": "5e91f234",
   "metadata": {},
   "outputs": [],
   "source": []
  },
  {
   "cell_type": "code",
   "execution_count": null,
   "id": "c7c7ca5f",
   "metadata": {},
   "outputs": [],
   "source": []
  }
 ],
 "metadata": {
  "kernelspec": {
   "display_name": "Python 3 (ipykernel)",
   "language": "python",
   "name": "python3"
  },
  "language_info": {
   "codemirror_mode": {
    "name": "ipython",
    "version": 3
   },
   "file_extension": ".py",
   "mimetype": "text/x-python",
   "name": "python",
   "nbconvert_exporter": "python",
   "pygments_lexer": "ipython3",
   "version": "3.10.2"
  }
 },
 "nbformat": 4,
 "nbformat_minor": 5
}
